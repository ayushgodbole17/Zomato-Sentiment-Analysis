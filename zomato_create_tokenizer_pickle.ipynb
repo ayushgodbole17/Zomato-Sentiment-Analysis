{
 "cells": [
  {
   "cell_type": "code",
   "execution_count": 1,
   "id": "0154a448",
   "metadata": {},
   "outputs": [
    {
     "name": "stderr",
     "output_type": "stream",
     "text": [
      "[nltk_data] Downloading package punkt to\n",
      "[nltk_data]     C:\\Users\\godbo\\AppData\\Roaming\\nltk_data...\n",
      "[nltk_data]   Package punkt is already up-to-date!\n",
      "[nltk_data] Downloading package stopwords to\n",
      "[nltk_data]     C:\\Users\\godbo\\AppData\\Roaming\\nltk_data...\n",
      "[nltk_data]   Package stopwords is already up-to-date!\n"
     ]
    }
   ],
   "source": [
    "import warnings\n",
    "warnings.filterwarnings(\"ignore\")\n",
    "\n",
    "\n",
    "import pandas as pd  \n",
    "import numpy as np\n",
    "import pickle\n",
    "import nltk\n",
    "import string\n",
    "import matplotlib.pyplot as plt\n",
    "import random\n",
    "import csv\n",
    "from sklearn.model_selection import train_test_split\n",
    "from tqdm import tqdm\n",
    "%matplotlib inline\n",
    "import re\n",
    "\n",
    "\n",
    "import nltk\n",
    "from nltk.corpus import stopwords\n",
    "from nltk.tokenize import word_tokenize\n",
    "nltk.download('punkt')\n",
    "nltk.download('stopwords')\n",
    "\n",
    "stop_words = set(stopwords.words('english'))\n",
    "\n",
    "\n",
    "import tensorflow as tf\n",
    "import tensorflow.keras as keras\n",
    "from tensorflow.keras import layers\n",
    "from tensorflow.keras.preprocessing.text import Tokenizer\n",
    "from tensorflow.keras.preprocessing.sequence import pad_sequences"
   ]
  },
  {
   "cell_type": "code",
   "execution_count": 2,
   "id": "99b9846b",
   "metadata": {},
   "outputs": [],
   "source": [
    "def create_tokenizer(vocab_size=25000, embedding_dim=512, max_length=500, test_size=0.1):\n",
    "    dataset = pd.read_csv(\"new_reviews.csv\")\n",
    "\n",
    "    vocab_size = vocab_size\n",
    "    embedding_dim = embedding_dim\n",
    "    max_length = max_length\n",
    "    trunc_type = 'post'\n",
    "    padding_type = 'post'\n",
    "    oov_tok = '<OOV>'\n",
    "\n",
    "    x_train, x_test, y_train, y_test = train_test_split(dataset['reviews'], dataset['ratings'], test_size=test_size)\n",
    "    \n",
    "    tokenizer = Tokenizer(num_words = vocab_size, oov_token=oov_tok)    \n",
    "    tokenizer.fit_on_texts(x_train)\n",
    "    word_index = tokenizer.word_index\n",
    "    \n",
    "    return tokenizer"
   ]
  },
  {
   "cell_type": "code",
   "execution_count": 3,
   "id": "189fa427",
   "metadata": {},
   "outputs": [
    {
     "name": "stdout",
     "output_type": "stream",
     "text": [
      "tokenizer_50000_512_1000_90.010.0\n"
     ]
    }
   ],
   "source": [
    "vocab_size=50000\n",
    "embedding_dim=512\n",
    "max_length=1000\n",
    "test_size=0.1\n",
    "\n",
    "tokenizer = create_tokenizer(vocab_size, embedding_dim, max_length, test_size)"
   ]
  },
  {
   "cell_type": "code",
   "execution_count": 6,
   "id": "39baa869",
   "metadata": {},
   "outputs": [
    {
     "name": "stdout",
     "output_type": "stream",
     "text": [
      "tokenizer_50000_512_1000_90_10.pickle\n"
     ]
    }
   ],
   "source": [
    "tokenizer_name = 'tokenizer_' + str(vocab_size) + '_' + str(embedding_dim) + '_' + str(max_length) + '_' + str(int(100-(test_size*100))) + '_' + str(int(test_size*100)) + '.pickle'\n",
    "print(tokenizer_name)"
   ]
  },
  {
   "cell_type": "code",
   "execution_count": 7,
   "id": "adbb8415",
   "metadata": {},
   "outputs": [],
   "source": [
    "with open(tokenizer_name, 'wb') as handle:\n",
    "    pickle.dump(tokenizer, handle, protocol=pickle.HIGHEST_PROTOCOL)"
   ]
  },
  {
   "cell_type": "code",
   "execution_count": null,
   "id": "7b64dbac",
   "metadata": {},
   "outputs": [],
   "source": []
  }
 ],
 "metadata": {
  "kernelspec": {
   "display_name": "Python 3 (ipykernel)",
   "language": "python",
   "name": "python3"
  },
  "language_info": {
   "codemirror_mode": {
    "name": "ipython",
    "version": 3
   },
   "file_extension": ".py",
   "mimetype": "text/x-python",
   "name": "python",
   "nbconvert_exporter": "python",
   "pygments_lexer": "ipython3",
   "version": "3.8.13"
  }
 },
 "nbformat": 4,
 "nbformat_minor": 5
}
