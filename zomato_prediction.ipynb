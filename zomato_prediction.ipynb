{
  "cells": [
    {
      "cell_type": "code",
      "execution_count": null,
      "id": "e3e63c75",
      "metadata": {
        "colab": {
          "base_uri": "https://localhost:8080/"
        },
        "id": "e3e63c75",
        "outputId": "03943c0e-2f7f-401d-c393-36a6172d9658"
      },
      "outputs": [
        {
          "output_type": "stream",
          "name": "stdout",
          "text": [
            "Looking in indexes: https://pypi.org/simple, https://us-python.pkg.dev/colab-wheels/public/simple/\n",
            "Requirement already satisfied: pickle5 in /usr/local/lib/python3.7/dist-packages (0.0.12)\n"
          ]
        },
        {
          "output_type": "stream",
          "name": "stderr",
          "text": [
            "[nltk_data] Downloading package punkt to /root/nltk_data...\n",
            "[nltk_data]   Package punkt is already up-to-date!\n",
            "[nltk_data] Downloading package stopwords to /root/nltk_data...\n",
            "[nltk_data]   Package stopwords is already up-to-date!\n"
          ]
        }
      ],
      "source": [
        "import warnings\n",
        "warnings.filterwarnings(\"ignore\")\n",
        "\n",
        "\n",
        "import pandas as pd  \n",
        "import numpy as np\n",
        "import pickle\n",
        "#!pip install pickle5\n",
        "import pickle5 as p\n",
        "import nltk\n",
        "import string\n",
        "import matplotlib.pyplot as plt\n",
        "import random\n",
        "import csv\n",
        "from sklearn.model_selection import train_test_split\n",
        "from tqdm import tqdm\n",
        "import re\n",
        "%matplotlib inline\n",
        "\n",
        "\n",
        "import nltk\n",
        "from nltk.corpus import stopwords\n",
        "from nltk.tokenize import word_tokenize\n",
        "#nltk.download('punkt')\n",
        "#nltk.download('stopwords')\n",
        "\n",
        "stop_words = set(stopwords.words('english'))\n",
        "\n",
        "\n",
        "import tensorflow as tf\n",
        "import tensorflow.keras as keras\n",
        "from tensorflow.keras import layers\n",
        "from tensorflow.keras.preprocessing.text import Tokenizer\n",
        "from tensorflow.keras.preprocessing.sequence import pad_sequences"
      ]
    },
    {
      "cell_type": "code",
      "execution_count": null,
      "id": "e4801d74",
      "metadata": {
        "colab": {
          "base_uri": "https://localhost:8080/"
        },
        "id": "e4801d74",
        "outputId": "22c457a3-fa0e-47a5-ca1b-067e42f86c3a"
      },
      "outputs": [
        {
          "output_type": "stream",
          "name": "stdout",
          "text": [
            "Drive already mounted at /content/drive; to attempt to forcibly remount, call drive.mount(\"/content/drive\", force_remount=True).\n"
          ]
        }
      ],
      "source": [
        "from google.colab import drive\n",
        "drive.mount('/content/drive')\n",
        "dataset = pd.read_csv(\"/content/drive/MyDrive/zomato/new_reviews.csv\", encoding='utf8')"
      ]
    },
    {
      "cell_type": "code",
      "source": [
        "vocab_size = 50000\n",
        "embedding_dim = 512\n",
        "max_length = 1000\n",
        "trunc_type = 'post'\n",
        "padding_type = 'post'\n",
        "oov_tok = '<OOV>'"
      ],
      "metadata": {
        "id": "lYWPNfF-ROit"
      },
      "id": "lYWPNfF-ROit",
      "execution_count": null,
      "outputs": []
    },
    {
      "cell_type": "code",
      "source": [
        "x_train, x_test, y_train, y_test = train_test_split(dataset['reviews'], dataset['ratings'], test_size=0.1)"
      ],
      "metadata": {
        "id": "wwij1p_aRTtW"
      },
      "id": "wwij1p_aRTtW",
      "execution_count": null,
      "outputs": []
    },
    {
      "cell_type": "code",
      "execution_count": null,
      "id": "99d61366",
      "metadata": {
        "colab": {
          "base_uri": "https://localhost:8080/"
        },
        "id": "99d61366",
        "outputId": "10ed3de5-5510-496a-e861-1c2df5bc841f"
      },
      "outputs": [
        {
          "output_type": "execute_result",
          "data": {
            "text/plain": [
              "{'<OOV>': 1,\n",
              " \"'\": 2,\n",
              " 'x83': 3,\n",
              " 'x82ã': 4,\n",
              " 'x82': 5,\n",
              " 'x83ã': 6,\n",
              " \"'rated\": 7,\n",
              " 'n': 8,\n",
              " \"0'\": 9,\n",
              " \"'place'\": 10,\n",
              " \"'good'\": 11,\n",
              " \"'food'\": 12,\n",
              " \"'4\": 13,\n",
              " \"'5\": 14,\n",
              " \"n'\": 15,\n",
              " \"'chicken'\": 16,\n",
              " \"'3\": 17,\n",
              " \"'service'\": 18,\n",
              " \"'ordered'\": 19,\n",
              " \"'great'\": 20}"
            ]
          },
          "metadata": {},
          "execution_count": 5
        }
      ],
      "source": [
        "tokenizer_path = \"/content/drive/MyDrive/zomato/tokenizer_50000_512_1000_90_10.pickle\"\n",
        "\n",
        "\n",
        "with open(tokenizer_path, 'rb') as handle:\n",
        "    tokenizer = p.load(handle)\n",
        "\n",
        "tokenizer.fit_on_texts(x_train)\n",
        "word_index = tokenizer.word_index\n",
        "dict(list(word_index.items())[0:20])"
      ]
    },
    {
      "cell_type": "code",
      "execution_count": null,
      "id": "9fb21752",
      "metadata": {
        "colab": {
          "base_uri": "https://localhost:8080/"
        },
        "id": "9fb21752",
        "outputId": "01fe85b8-bdeb-4c90-ce23-3210b631126d"
      },
      "outputs": [
        {
          "output_type": "stream",
          "name": "stdout",
          "text": [
            "[2, 2, 2, 2, 7, 36, 9, 2, 2, 2, 7, 8, 3604, 928, 2, 2, 346, 1515, 2, 2, 2044, 19, 137, 2238, 2, 2, 223, 206, 2, 2, 1048, 657, 89, 1053, 152, 38, 2, 2, 131, 50, 59, 266, 6963, 3539, 2, 2, 3756, 539, 2, 2, 3072, 652, 106, 2, 2, 2, 2, 2, 2, 2, 2, 2, 7, 36, 9, 2, 2, 2, 7, 8, 907, 45, 736, 5361, 2, 2, 95, 349, 439, 2, 2, 16477, 10714, 2, 2, 4783, 2, 2, 2, 2, 45, 7898, 907, 2807, 349, 2, 2, 222, 2, 2, 518, 144, 3001, 46448, 5361, 4273, 409, 1053, 1312, 56, 1234, 879, 2, 2, 2, 2113, 4356, 1601, 172, 430, 56, 1672, 7600, 9317, 1325, 1379, 137, 243, 7976, 2, 2, 382, 45, 820, 1140, 844, 10188, 2, 2, 196, 1093, 1466, 2, 2, 424, 2312, 2, 2, 2, 2, 2, 2, 2, 2, 2, 7, 36, 9, 2, 2, 2, 2, 2, 7, 15, 18023, 2, 2, 256, 62, 31, 95, 1897, 2, 2, 29, 1676, 2346, 95, 31, 668, 2, 2, 364, 78, 828, 10, 31, 10353, 2, 2, 2, 2, 2, 2, 2, 2, 2, 2, 7, 17, 27, 2, 2, 2, 7, 8, 209, 4666, 13255, 20596, 3916, 2477, 96, 1047, 137, 2610, 2326, 42825, 1047, 2, 2, 198, 10187, 686, 1068, 2792, 137, 107, 11, 581, 2, 2, 131, 567, 1325, 51, 496, 108, 698, 1843, 3443, 364, 151, 1897, 2, 2, 2, 2, 2, 2, 2, 2, 2, 7, 13, 9, 2, 2, 2, 7, 8, 3443, 45, 14659, 715, 137, 1472, 942, 365, 8131, 24, 38, 322, 32651, 2, 2, 745, 346, 137, 510, 2, 2, 3032, 19194, 473, 7825, 252, 477, 2487, 38, 2, 2, 600, 2, 2, 32651, 2, 2, 496, 108, 209, 58, 2, 2, 2, 2, 2, 2, 2, 2, 2, 7, 14, 9, 2, 2, 2, 7, 8, 19, 2, 2, 140, 1068, 2, 2, 1049, 105, 364, 46449, 2, 2, 510, 19, 110, 137, 717, 1688, 2, 2, 77, 267, 137, 56, 11945, 2, 2, 46450, 103, 24, 70, 364, 2, 2, 600, 233, 2, 2, 2, 2, 2, 2, 2]\n",
            "142\n",
            "1000\n",
            "122\n",
            "1000\n",
            "364\n",
            "1000\n"
          ]
        }
      ],
      "source": [
        "train_sequences = tokenizer.texts_to_sequences(x_train)\n",
        "print(train_sequences[10])\n",
        "\n",
        "train_padded = pad_sequences(train_sequences, maxlen=max_length, padding=padding_type, truncating=trunc_type)\n",
        "print(len(train_sequences[0]))\n",
        "print(len(train_padded[0]))\n",
        "\n",
        "print(len(train_sequences[1]))\n",
        "print(len(train_padded[1]))\n",
        "\n",
        "print(len(train_sequences[10]))\n",
        "print(len(train_padded[10]))"
      ]
    },
    {
      "cell_type": "code",
      "execution_count": null,
      "id": "d094f260",
      "metadata": {
        "colab": {
          "base_uri": "https://localhost:8080/"
        },
        "id": "d094f260",
        "outputId": "ba3bcc5d-a3ea-4cec-a68f-5117f5210161"
      },
      "outputs": [
        {
          "output_type": "stream",
          "name": "stdout",
          "text": [
            "[    2     2     2     2     7    36     9     2     2     2     7     8\n",
            "  3604   928     2     2   346  1515     2     2  2044    19   137  2238\n",
            "     2     2   223   206     2     2  1048   657    89  1053   152    38\n",
            "     2     2   131    50    59   266  6963  3539     2     2  3756   539\n",
            "     2     2  3072   652   106     2     2     2     2     2     2     2\n",
            "     2     2     7    36     9     2     2     2     7     8   907    45\n",
            "   736  5361     2     2    95   349   439     2     2 16477 10714     2\n",
            "     2  4783     2     2     2     2    45  7898   907  2807   349     2\n",
            "     2   222     2     2   518   144  3001 46448  5361  4273   409  1053\n",
            "  1312    56  1234   879     2     2     2  2113  4356  1601   172   430\n",
            "    56  1672  7600  9317  1325  1379   137   243  7976     2     2   382\n",
            "    45   820  1140   844 10188     2     2   196  1093  1466     2     2\n",
            "   424  2312     2     2     2     2     2     2     2     2     2     7\n",
            "    36     9     2     2     2     2     2     7    15 18023     2     2\n",
            "   256    62    31    95  1897     2     2    29  1676  2346    95    31\n",
            "   668     2     2   364    78   828    10    31 10353     2     2     2\n",
            "     2     2     2     2     2     2     2     7    17    27     2     2\n",
            "     2     7     8   209  4666 13255 20596  3916  2477    96  1047   137\n",
            "  2610  2326 42825  1047     2     2   198 10187   686  1068  2792   137\n",
            "   107    11   581     2     2   131   567  1325    51   496   108   698\n",
            "  1843  3443   364   151  1897     2     2     2     2     2     2     2\n",
            "     2     2     7    13     9     2     2     2     7     8  3443    45\n",
            " 14659   715   137  1472   942   365  8131    24    38   322 32651     2\n",
            "     2   745   346   137   510     2     2  3032 19194   473  7825   252\n",
            "   477  2487    38     2     2   600     2     2 32651     2     2   496\n",
            "   108   209    58     2     2     2     2     2     2     2     2     2\n",
            "     7    14     9     2     2     2     7     8    19     2     2   140\n",
            "  1068     2     2  1049   105   364 46449     2     2   510    19   110\n",
            "   137   717  1688     2     2    77   267   137    56 11945     2     2\n",
            " 46450   103    24    70   364     2     2   600   233     2     2     2\n",
            "     2     2     2     2     0     0     0     0     0     0     0     0\n",
            "     0     0     0     0     0     0     0     0     0     0     0     0\n",
            "     0     0     0     0     0     0     0     0     0     0     0     0\n",
            "     0     0     0     0     0     0     0     0     0     0     0     0\n",
            "     0     0     0     0     0     0     0     0     0     0     0     0\n",
            "     0     0     0     0     0     0     0     0     0     0     0     0\n",
            "     0     0     0     0     0     0     0     0     0     0     0     0\n",
            "     0     0     0     0     0     0     0     0     0     0     0     0\n",
            "     0     0     0     0     0     0     0     0     0     0     0     0\n",
            "     0     0     0     0     0     0     0     0     0     0     0     0\n",
            "     0     0     0     0     0     0     0     0     0     0     0     0\n",
            "     0     0     0     0     0     0     0     0     0     0     0     0\n",
            "     0     0     0     0     0     0     0     0     0     0     0     0\n",
            "     0     0     0     0     0     0     0     0     0     0     0     0\n",
            "     0     0     0     0     0     0     0     0     0     0     0     0\n",
            "     0     0     0     0     0     0     0     0     0     0     0     0\n",
            "     0     0     0     0     0     0     0     0     0     0     0     0\n",
            "     0     0     0     0     0     0     0     0     0     0     0     0\n",
            "     0     0     0     0     0     0     0     0     0     0     0     0\n",
            "     0     0     0     0     0     0     0     0     0     0     0     0\n",
            "     0     0     0     0     0     0     0     0     0     0     0     0\n",
            "     0     0     0     0     0     0     0     0     0     0     0     0\n",
            "     0     0     0     0     0     0     0     0     0     0     0     0\n",
            "     0     0     0     0     0     0     0     0     0     0     0     0\n",
            "     0     0     0     0     0     0     0     0     0     0     0     0\n",
            "     0     0     0     0     0     0     0     0     0     0     0     0\n",
            "     0     0     0     0     0     0     0     0     0     0     0     0\n",
            "     0     0     0     0     0     0     0     0     0     0     0     0\n",
            "     0     0     0     0     0     0     0     0     0     0     0     0\n",
            "     0     0     0     0     0     0     0     0     0     0     0     0\n",
            "     0     0     0     0     0     0     0     0     0     0     0     0\n",
            "     0     0     0     0     0     0     0     0     0     0     0     0\n",
            "     0     0     0     0     0     0     0     0     0     0     0     0\n",
            "     0     0     0     0     0     0     0     0     0     0     0     0\n",
            "     0     0     0     0     0     0     0     0     0     0     0     0\n",
            "     0     0     0     0     0     0     0     0     0     0     0     0\n",
            "     0     0     0     0     0     0     0     0     0     0     0     0\n",
            "     0     0     0     0     0     0     0     0     0     0     0     0\n",
            "     0     0     0     0     0     0     0     0     0     0     0     0\n",
            "     0     0     0     0     0     0     0     0     0     0     0     0\n",
            "     0     0     0     0     0     0     0     0     0     0     0     0\n",
            "     0     0     0     0     0     0     0     0     0     0     0     0\n",
            "     0     0     0     0     0     0     0     0     0     0     0     0\n",
            "     0     0     0     0     0     0     0     0     0     0     0     0\n",
            "     0     0     0     0     0     0     0     0     0     0     0     0\n",
            "     0     0     0     0     0     0     0     0     0     0     0     0\n",
            "     0     0     0     0     0     0     0     0     0     0     0     0\n",
            "     0     0     0     0     0     0     0     0     0     0     0     0\n",
            "     0     0     0     0     0     0     0     0     0     0     0     0\n",
            "     0     0     0     0     0     0     0     0     0     0     0     0\n",
            "     0     0     0     0     0     0     0     0     0     0     0     0\n",
            "     0     0     0     0     0     0     0     0     0     0     0     0\n",
            "     0     0     0     0     0     0     0     0     0     0     0     0\n",
            "     0     0     0     0]\n"
          ]
        }
      ],
      "source": [
        "print(train_padded[10])"
      ]
    },
    {
      "cell_type": "code",
      "execution_count": null,
      "id": "55c7f301",
      "metadata": {
        "colab": {
          "base_uri": "https://localhost:8080/"
        },
        "id": "55c7f301",
        "outputId": "38a6ac81-25d4-4c8d-aadf-ec5d2bd08613"
      },
      "outputs": [
        {
          "output_type": "stream",
          "name": "stdout",
          "text": [
            "4167\n",
            "(4167, 1000)\n"
          ]
        }
      ],
      "source": [
        "validation_sequences = tokenizer.texts_to_sequences(x_test)\n",
        "validation_padded = pad_sequences(validation_sequences, maxlen=max_length, padding=padding_type, truncating=trunc_type)\n",
        "\n",
        "print(len(validation_sequences))\n",
        "print(validation_padded.shape)"
      ]
    },
    {
      "cell_type": "code",
      "execution_count": null,
      "id": "55df6e8b",
      "metadata": {
        "colab": {
          "base_uri": "https://localhost:8080/"
        },
        "id": "55df6e8b",
        "outputId": "8f64e1e5-fdfa-437c-89ed-257bf2bfb5dc"
      },
      "outputs": [
        {
          "output_type": "stream",
          "name": "stdout",
          "text": [
            "Model: \"sequential_3\"\n",
            "_________________________________________________________________\n",
            " Layer (type)                Output Shape              Param #   \n",
            "=================================================================\n",
            " embedding_3 (Embedding)     (None, None, 256)         12800000  \n",
            "                                                                 \n",
            " bidirectional_2 (Bidirectio  (None, None, 512)        1050624   \n",
            " nal)                                                            \n",
            "                                                                 \n",
            " bidirectional_3 (Bidirectio  (None, 256)              656384    \n",
            " nal)                                                            \n",
            "                                                                 \n",
            " dense_6 (Dense)             (None, 64)                16448     \n",
            "                                                                 \n",
            " dropout_1 (Dropout)         (None, 64)                0         \n",
            "                                                                 \n",
            " dense_7 (Dense)             (None, 6)                 390       \n",
            "                                                                 \n",
            "=================================================================\n",
            "Total params: 14,523,846\n",
            "Trainable params: 14,523,846\n",
            "Non-trainable params: 0\n",
            "_________________________________________________________________\n"
          ]
        }
      ],
      "source": [
        "model = tf.keras.Sequential([\n",
        "    layers.Embedding(vocab_size, embedding_dim),\n",
        "    layers.Bidirectional(layers.LSTM(embedding_dim, return_sequences=True)),\n",
        "    layers.Bidirectional(layers.LSTM(int(embedding_dim/2))),\n",
        "    layers.Dense(int(embedding_dim/4), activation='relu'),\n",
        "    layers.Dropout(0.3),\n",
        "    layers.Dense(6, activation='softmax')\n",
        "])\n",
        "\n",
        "model.compile(optimizer='adam', loss='sparse_categorical_crossentropy', metrics=['accuracy'])\n",
        "model.summary()"
      ]
    },
    {
      "cell_type": "code",
      "execution_count": null,
      "id": "73fa4373",
      "metadata": {
        "id": "73fa4373"
      },
      "outputs": [],
      "source": [
        "callbacks = [keras.callbacks.ModelCheckpoint('zomato_1.keras', save_best_only=True),\n",
        "             keras.callbacks.EarlyStopping(patience=3)]"
      ]
    },
    {
      "cell_type": "code",
      "execution_count": null,
      "id": "54bf8363",
      "metadata": {
        "colab": {
          "base_uri": "https://localhost:8080/"
        },
        "id": "54bf8363",
        "outputId": "794d03e8-93a4-4f7b-d913-a8b6d667022a"
      },
      "outputs": [
        {
          "output_type": "stream",
          "name": "stdout",
          "text": [
            "Epoch 1/10\n",
            "1172/1172 [==============================] - 281s 235ms/step - loss: 0.5780 - accuracy: 0.7563 - val_loss: 0.4449 - val_accuracy: 0.8337\n",
            "Epoch 2/10\n",
            "1172/1172 [==============================] - 275s 235ms/step - loss: 0.3396 - accuracy: 0.8856 - val_loss: 0.2983 - val_accuracy: 0.8980\n",
            "Epoch 3/10\n",
            "1172/1172 [==============================] - 273s 233ms/step - loss: 0.1972 - accuracy: 0.9393 - val_loss: 0.2404 - val_accuracy: 0.9280\n",
            "Epoch 4/10\n",
            "1172/1172 [==============================] - 272s 232ms/step - loss: 0.1220 - accuracy: 0.9635 - val_loss: 0.2396 - val_accuracy: 0.9278\n",
            "Epoch 5/10\n",
            "1172/1172 [==============================] - 273s 233ms/step - loss: 0.0827 - accuracy: 0.9751 - val_loss: 0.2255 - val_accuracy: 0.9465\n",
            "Epoch 6/10\n",
            "1172/1172 [==============================] - 272s 232ms/step - loss: 0.0680 - accuracy: 0.9797 - val_loss: 0.1881 - val_accuracy: 0.9506\n",
            "Epoch 7/10\n",
            "1172/1172 [==============================] - 272s 232ms/step - loss: 0.0561 - accuracy: 0.9828 - val_loss: 0.2035 - val_accuracy: 0.9580\n",
            "Epoch 8/10\n",
            "1172/1172 [==============================] - 272s 232ms/step - loss: 0.0468 - accuracy: 0.9856 - val_loss: 0.1997 - val_accuracy: 0.9532\n",
            "Epoch 9/10\n",
            "1172/1172 [==============================] - 272s 232ms/step - loss: 0.0448 - accuracy: 0.9859 - val_loss: 0.2029 - val_accuracy: 0.9549\n"
          ]
        }
      ],
      "source": [
        "history = model.fit(train_padded, y_train, epochs=10, validation_data=(validation_padded, y_test), callbacks=callbacks)"
      ]
    },
    {
      "cell_type": "code",
      "execution_count": null,
      "id": "626bdf1b",
      "metadata": {
        "colab": {
          "base_uri": "https://localhost:8080/",
          "height": 72
        },
        "id": "626bdf1b",
        "outputId": "f90d2f0d-a6dc-4e76-9c78-b7e052ffb394"
      },
      "outputs": [
        {
          "output_type": "display_data",
          "data": {
            "text/plain": [
              "<Figure size 432x288 with 1 Axes>"
            ],
            "image/png": "[encoded data removed]"
          },
          "metadata": {
            "needs_background": "light"
          }
        },
        {
          "output_type": "display_data",
          "data": {
            "text/plain": [
              "<Figure size 432x288 with 1 Axes>"
            ],
            "image/png": "[encoded data removed]"
          },
          "metadata": {
            "needs_background": "light"
          }
        }
      ],
      "source": [
        "def plot_graphs(history, string):\n",
        "    plt.plot(history.history[string])\n",
        "    plt.plot(history.history['val_'+string])\n",
        "    plt.xlabel(\"Epochs\")\n",
        "    plt.ylabel(string)\n",
        "    plt.legend([string, 'val_'+string])\n",
        "    plt.show()\n",
        "\n",
        "    \n",
        "plot_graphs(history, \"accuracy\")\n",
        "plot_graphs(history, \"loss\")"
      ]
    }
  ],
  "metadata": {
    "kernelspec": {
      "display_name": "Python 3 (ipykernel)",
      "language": "python",
      "name": "python3"
    },
    "language_info": {
      "codemirror_mode": {
        "name": "ipython",
        "version": 3
      },
      "file_extension": ".py",
      "mimetype": "text/x-python",
      "name": "python",
      "nbconvert_exporter": "python",
      "pygments_lexer": "ipython3",
      "version": "3.8.13"
    },
    "colab": {
      "name": "zomato_prediction.ipynb",
      "provenance": [],
      "collapsed_sections": []
    },
    "accelerator": "GPU",
    "gpuClass": "standard"
  },
  "nbformat": 4,
  "nbformat_minor": 5
}